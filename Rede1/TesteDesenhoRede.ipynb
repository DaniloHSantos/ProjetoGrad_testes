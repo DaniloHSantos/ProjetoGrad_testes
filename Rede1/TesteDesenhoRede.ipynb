{
 "cells": [
  {
   "cell_type": "code",
   "execution_count": 1,
   "metadata": {},
   "outputs": [],
   "source": [
    "import torch\n",
    "import torch.nn as nn\n",
    "from torch.optim import SGD\n",
    "import torch.nn.functional as F\n",
    "from torch.utils.data import Dataset, DataLoader\n",
    "import torchvision\n",
    "import numpy as np\n",
    "import matplotlib.pyplot as plt\n",
    "import cv2\n",
    "import random"
   ]
  },
  {
   "cell_type": "markdown",
   "metadata": {},
   "source": [
    "# Carregando a Rede"
   ]
  },
  {
   "cell_type": "code",
   "execution_count": 2,
   "metadata": {},
   "outputs": [],
   "source": [
    "class MyNeuralNet(nn.Module):\n",
    "    def __init__(self):\n",
    "        super().__init__()\n",
    "        self.Matrix1 = nn.Linear(28**2,100)\n",
    "        self.Matrix2 = nn.Linear(100,50)\n",
    "        self.Matrix3 = nn.Linear(50,4)\n",
    "        self.R = nn.ReLU()\n",
    "    def forward(self,x):\n",
    "        x = x.view(-1,28**2)\n",
    "        x = self.R(self.Matrix1(x))\n",
    "        x = self.R(self.Matrix2(x))\n",
    "        x = self.Matrix3(x)\n",
    "        return x.squeeze()"
   ]
  },
  {
   "cell_type": "code",
   "execution_count": 3,
   "metadata": {},
   "outputs": [],
   "source": [
    "RedeNeural = MyNeuralNet()"
   ]
  },
  {
   "cell_type": "code",
   "execution_count": 4,
   "metadata": {},
   "outputs": [
    {
     "name": "stderr",
     "output_type": "stream",
     "text": [
      "C:\\Users\\R2\\AppData\\Local\\Temp\\ipykernel_14300\\3765925349.py:1: FutureWarning: You are using `torch.load` with `weights_only=False` (the current default value), which uses the default pickle module implicitly. It is possible to construct malicious pickle data which will execute arbitrary code during unpickling (See https://github.com/pytorch/pytorch/blob/main/SECURITY.md#untrusted-models for more details). In a future release, the default value for `weights_only` will be flipped to `True`. This limits the functions that could be executed during unpickling. Arbitrary objects will no longer be allowed to be loaded via this mode unless they are explicitly allowlisted by the user via `torch.serialization.add_safe_globals`. We recommend you start setting `weights_only=True` for any use case where you don't have full control of the loaded file. Please open an issue on GitHub for any issues related to this experimental feature.\n",
      "  RedeNeural.load_state_dict(torch.load('RedeNeural1.pth'))\n"
     ]
    },
    {
     "data": {
      "text/plain": [
       "<All keys matched successfully>"
      ]
     },
     "execution_count": 4,
     "metadata": {},
     "output_type": "execute_result"
    }
   ],
   "source": [
    "RedeNeural.load_state_dict(torch.load('RedeNeural1.pth'))"
   ]
  },
  {
   "cell_type": "code",
   "execution_count": 5,
   "metadata": {},
   "outputs": [
    {
     "name": "stdout",
     "output_type": "stream",
     "text": [
      "MyNeuralNet(\n",
      "  (Matrix1): Linear(in_features=784, out_features=100, bias=True)\n",
      "  (Matrix2): Linear(in_features=100, out_features=50, bias=True)\n",
      "  (Matrix3): Linear(in_features=50, out_features=4, bias=True)\n",
      "  (R): ReLU()\n",
      ")\n"
     ]
    }
   ],
   "source": [
    "print(RedeNeural)"
   ]
  },
  {
   "cell_type": "code",
   "execution_count": null,
   "metadata": {},
   "outputs": [],
   "source": []
  },
  {
   "cell_type": "markdown",
   "metadata": {},
   "source": [
    "# Parte do desenho"
   ]
  },
  {
   "cell_type": "code",
   "execution_count": 6,
   "metadata": {},
   "outputs": [],
   "source": [
    "def ImgNormalizer(img):\n",
    "    w = len(img[0])\n",
    "    h = len(img[1])\n",
    "    DrawX = []\n",
    "    DrawY = []\n",
    "    for x in range(w):\n",
    "        for y in range(h):\n",
    "            if img[x][y] == 255:\n",
    "                DrawX.append(x)\n",
    "                DrawY.append(y)\n",
    "\n",
    "    # Se não ouver desenho nenhum, retorna imagens completamente vazias\n",
    "    if not DrawX:\n",
    "        imgSmall = np.full((28,28), 0, dtype=np.uint8)\n",
    "        imgSmall2 = np.full((28,28), 0, dtype=np.uint8)\n",
    "        return imgSmall,imgSmall2\n",
    "        \n",
    "    # Pega os valores mínimos e máximos das coordenadas\n",
    "    MaxXValue = np.max(DrawX)\n",
    "    MinXValue = np.min(DrawX)\n",
    "    MaxYValue = np.max(DrawY)\n",
    "    MinYValue = np.min(DrawY)\n",
    "    \n",
    "    # Calcula as amplitudes\n",
    "    XAmplitude = MaxXValue - MinXValue\n",
    "    YAmplitude = MaxYValue - MinYValue\n",
    "    \n",
    "    if XAmplitude > YAmplitude:\n",
    "        # Altera as coordenadas para ir de 0 ate a aplitude maxima e centraliza a amplitude menor\n",
    "        Amp = XAmplitude\n",
    "        for i in range(len(DrawX)):\n",
    "            DrawX[i] = DrawX[i] - MinXValue\n",
    "            DrawY[i] = DrawY[i] - MinYValue + (Amp/2) - (YAmplitude/2)\n",
    "    else:\n",
    "        # Altera as coordenadas para ir de 0 ate a aplitude maxima e centraliza a amplitude menor\n",
    "        Amp = YAmplitude\n",
    "        for i in range(len(DrawX)):\n",
    "            DrawX[i] = DrawX[i] - MinXValue + (Amp/2) - (XAmplitude/2)\n",
    "            DrawY[i] = DrawY[i] - MinYValue\n",
    "    \n",
    "    DrawSmall = []\n",
    "    for i in range(len(DrawX)):\n",
    "        # Reduz a amplitude para 28x28 com 2 pixels de borda e arredonda os resultados\n",
    "        newpair = []\n",
    "        newpair.append(((23/Amp)*DrawX[i]) + 2)\n",
    "        newpair.append(((23/Amp)*DrawY[i]) + 2) \n",
    "        newpairR = np.int32(np.rint(newpair))\n",
    "        DrawSmall.append(newpairR)\n",
    "    # Deixa apenas os pares únicos, excluindo os repetidos após o arredondamento\n",
    "    DrawSmall = np.unique(DrawSmall,axis=0)\n",
    "\n",
    "    #Desenha a imagem 28x28\n",
    "    imgSmall = np.full((28,28), 0, dtype=np.uint8)\n",
    "    imgSmall2 = np.full((28,28), 0, dtype=np.uint8)\n",
    "    for pair in DrawSmall:\n",
    "        imgSmall[pair[0]][pair[1]] = 255\n",
    "        cv2.circle(imgSmall2,(pair[1],pair[0]),1,(255,255,255),-1)\n",
    "\n",
    "    return imgSmall,imgSmall2"
   ]
  },
  {
   "cell_type": "code",
   "execution_count": 10,
   "metadata": {},
   "outputs": [],
   "source": [
    "class DrawingApp:\n",
    "    def __init__(self):\n",
    "        # Variáveis iniciais\n",
    "        self.isDrawing = False\n",
    "        self.Acertou = False\n",
    "    \n",
    "    def drawLine(self,event,x,y,flags,param):\n",
    "        #Desenha na imagem enquanto o mouse se move após o botão esquerdo do mouse é pressionado\n",
    "        #Desenha em 2 imagens ao mesmo tempo: Uma para ter uma referencia do desenho e uma para gerar as coordenadas do mouse\n",
    "        img1 = param[0]\n",
    "        img2 = param[1]\n",
    "        if event == cv2.EVENT_LBUTTONDOWN:\n",
    "            self.isDrawing = True\n",
    "        elif event == cv2.EVENT_MOUSEMOVE and self.isDrawing:\n",
    "            cv2.circle(img1,(x,y),5,(255,255,255),-1)\n",
    "            cv2.circle(img2,(x,y),0,(255,255,255),-1)\n",
    "        elif event == cv2.EVENT_LBUTTONUP:\n",
    "            self.isDrawing = False\n",
    "\n",
    "    def run(self):\n",
    "\n",
    "        # Cria imagens base vazias\n",
    "        img = np.full((640,640), 0, dtype=np.uint8)\n",
    "        img2 = np.full((640,640), 0, dtype=np.uint8)\n",
    "\n",
    "        countImg = np.full((400,400), 0, dtype=np.uint8)\n",
    "        font = cv2.FONT_HERSHEY_SIMPLEX\n",
    "        texto1 = \"Desenhe\"\n",
    "        cv2.putText(countImg, texto1, (75, 75), font, 1, (255,255,255), 3, cv2.LINE_AA)\n",
    "        randomnumber = random.randint(0,3)\n",
    "        match randomnumber:\n",
    "            case 0:\n",
    "                target = \"Baixo\"\n",
    "            case 1:\n",
    "                target = \"Cima\"\n",
    "            case 2:\n",
    "                target = \"Esquerda\"\n",
    "            case 3:\n",
    "                target = \"Direita\"\n",
    "\n",
    "        cv2.putText(countImg, target, (75, 100), font, 1, (255,255,255), 3, cv2.LINE_AA)\n",
    "\n",
    "\n",
    "        # Cria um vetor com as duas imagens\n",
    "        images = [img,img2]\n",
    "\n",
    "        #gera o nome da janela\n",
    "        windowName = 'drawing app'\n",
    "        cv2.namedWindow(windowName)\n",
    "        windowName2 = 'count'\n",
    "        cv2.namedWindow(windowName2)\n",
    "\n",
    "        #chama a função de desenho que chama a função drawLine com os eventos do mouse\n",
    "        cv2.setMouseCallback(windowName,self.drawLine,images)\n",
    "\n",
    "        while True:\n",
    "            cv2.imshow(windowName,images[0])\n",
    "            cv2.imshow(windowName2,countImg)\n",
    "            wait = cv2.waitKey(1)\n",
    "            if wait == ord('q'):\n",
    "                # Sai do Loop da etapa de desenho\n",
    "                break\n",
    "            elif wait == ord('r'):\n",
    "                # Limpa o conteudo da tela para que novas imagens possam ser geradas\n",
    "                images[0] = np.full((640,640), 0, dtype=np.uint8)\n",
    "                images[1] = np.full((640,640), 0, dtype=np.uint8)\n",
    "            elif wait == ord('s'):\n",
    "                # Gera as imagens na resolução 28x28\n",
    "                imagesSmall = ImgNormalizer(images[1])\n",
    "                \n",
    "                predicition = RedeNeural(torch.from_numpy(np.asarray(imagesSmall[1]))/255).argmax()\n",
    "                print(predicition)\n",
    "\n",
    "                if predicition == randomnumber:\n",
    "                    countImg = np.full((400,400), 0, dtype=np.uint8)\n",
    "                    cv2.putText(countImg, texto1, (75, 75), font, 1, (255,255,255), 3, cv2.LINE_AA)\n",
    "                    randomnumber = random.randint(0,3)\n",
    "                    match randomnumber:\n",
    "                        case 0:\n",
    "                            target = \"Baixo\"\n",
    "                        case 1:\n",
    "                            target = \"Cima\"\n",
    "                        case 2:\n",
    "                            target = \"Esquerda\"\n",
    "                        case 3:\n",
    "                            target = \"Direita\"\n",
    "\n",
    "                    cv2.putText(countImg, target, (75, 100), font, 1, (255,255,255), 3, cv2.LINE_AA)\n",
    "\n",
    "                    cv2.putText(countImg, \"Acertou!\", (75, 125), font, 1, (255,255,255), 3, cv2.LINE_AA)\n",
    "                else:\n",
    "                    countImg = np.full((400,400), 0, dtype=np.uint8)\n",
    "                    cv2.putText(countImg, texto1, (75, 75), font, 1, (255,255,255), 3, cv2.LINE_AA)\n",
    "                    randomnumber = random.randint(0,3)\n",
    "                    match randomnumber:\n",
    "                        case 0:\n",
    "                            target = \"Baixo\"\n",
    "                        case 1:\n",
    "                            target = \"Cima\"\n",
    "                        case 2:\n",
    "                            target = \"Esquerda\"\n",
    "                        case 3:\n",
    "                            target = \"Direita\"\n",
    "\n",
    "                    cv2.putText(countImg, target, (75, 100), font, 1, (255,255,255), 3, cv2.LINE_AA)\n",
    "\n",
    "                    cv2.putText(countImg, \"Errou!\", (75, 125), font, 1, (255,255,255), 3, cv2.LINE_AA)\n",
    "        \n",
    "        # Fecha a janela e termina processo\n",
    "        cv2.destroyAllWindows()"
   ]
  },
  {
   "cell_type": "code",
   "execution_count": 8,
   "metadata": {},
   "outputs": [],
   "source": [
    "def Drawing():\n",
    "    app = DrawingApp()\n",
    "    app.run()"
   ]
  },
  {
   "cell_type": "code",
   "execution_count": 12,
   "metadata": {},
   "outputs": [
    {
     "name": "stdout",
     "output_type": "stream",
     "text": [
      "tensor(1)\n",
      "tensor(2)\n",
      "tensor(2)\n",
      "tensor(0)\n",
      "tensor(3)\n",
      "tensor(3)\n",
      "tensor(1)\n",
      "tensor(1)\n",
      "tensor(0)\n",
      "tensor(0)\n",
      "tensor(3)\n",
      "tensor(0)\n"
     ]
    }
   ],
   "source": [
    "if __name__ == '__main__':\n",
    "    Drawing()"
   ]
  }
 ],
 "metadata": {
  "kernelspec": {
   "display_name": ".venv",
   "language": "python",
   "name": "python3"
  },
  "language_info": {
   "codemirror_mode": {
    "name": "ipython",
    "version": 3
   },
   "file_extension": ".py",
   "mimetype": "text/x-python",
   "name": "python",
   "nbconvert_exporter": "python",
   "pygments_lexer": "ipython3",
   "version": "3.12.8"
  }
 },
 "nbformat": 4,
 "nbformat_minor": 2
}
