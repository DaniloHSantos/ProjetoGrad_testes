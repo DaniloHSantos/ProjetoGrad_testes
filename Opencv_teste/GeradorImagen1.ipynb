{
 "cells": [
  {
   "cell_type": "markdown",
   "metadata": {},
   "source": [
    "# Imports"
   ]
  },
  {
   "cell_type": "code",
   "execution_count": 142,
   "metadata": {},
   "outputs": [],
   "source": [
    "import cv2\n",
    "import numpy as np\n",
    "import os"
   ]
  },
  {
   "cell_type": "markdown",
   "metadata": {},
   "source": [
    "# Função para normalizar a imagem para 28x28"
   ]
  },
  {
   "cell_type": "code",
   "execution_count": 143,
   "metadata": {},
   "outputs": [],
   "source": [
    "def ImgNormalizer(img):\n",
    "    w = len(img[0])\n",
    "    h = len(img[1])\n",
    "    Draw = []\n",
    "    for x in range(w):\n",
    "        for y in range(h):\n",
    "            if img[x][y] == 255:\n",
    "                print(x,y)\n",
    "                Draw.append([x,y])\n",
    "\n",
    "    # Inicia os valores mínimos e máximos com os primeiros valores\n",
    "    MaxXValue = Draw[0][0]\n",
    "    MinXValue = Draw[0][0]\n",
    "    MaxYValue = Draw[0][1]\n",
    "    MinYValue = Draw[0][1]\n",
    "    for pair in Draw[1:]:\n",
    "        if pair[0] > MaxXValue:\n",
    "            MaxXValue = pair[0]\n",
    "        if pair[0] <= MinXValue:\n",
    "            MinXValue = pair[0]\n",
    "        if pair[1] > MaxYValue:\n",
    "            MaxYValue = pair[1]\n",
    "        if pair[1] <= MinYValue:\n",
    "            MinYValue = pair[1]\n",
    "\n",
    "    # Calcula as amplitudes\n",
    "    XAmplitude = MaxXValue - MinXValue\n",
    "    YAmplitude = MaxYValue - MinYValue\n",
    "    \n",
    "    if XAmplitude > YAmplitude:\n",
    "        # Altera as coordenadas para ir de 0 ate a aplitude maxima e centraliza a amplitude menor\n",
    "        Amp = XAmplitude\n",
    "        for pair2 in Draw:\n",
    "            pair2[0] = pair2[0] - MinXValue\n",
    "            pair2[1] = pair2[1] - MinYValue + (Amp/2) - (YAmplitude/2)\n",
    "    else:\n",
    "        # Altera as coordenadas para ir de 0 ate a aplitude maxima e centraliza a amplitude menor\n",
    "        Amp = YAmplitude\n",
    "        for pair2 in Draw:\n",
    "            pair2[0] = pair2[0] - MinXValue + (Amp/2) - (XAmplitude/2)\n",
    "            pair2[1] = pair2[1] - MinYValue\n",
    "    \n",
    "    Draw2 = []\n",
    "    for pair3 in Draw:\n",
    "        # Reduz a amplitude para 28x28 com 2 pixels de borda e arredonda os resultados\n",
    "        newpair = []\n",
    "        newpair.append(((23/Amp)*pair3[0]) + 2)\n",
    "        newpair.append(((23/Amp)*pair3[1]) + 2) \n",
    "        newpairR = np.int32(np.rint(newpair))\n",
    "        Draw2.append(newpairR)\n",
    "    print(\"Coordenadas apos normalização e arredondamento\")\n",
    "    print(Draw2)\n",
    "    # Deixa apenas os pares únicos, excluindo os repetidos após o arredondamento\n",
    "    Draw2 = np.unique(Draw2,axis=0)\n",
    "    print(Draw2)\n",
    "\n",
    "    #Desenha a imagem 28x28\n",
    "    imgSmall = np.full((28,28), 0, dtype=np.uint8)\n",
    "    imgSmall2 = np.full((28,28), 0, dtype=np.uint8)\n",
    "    for pair in Draw2:\n",
    "        imgSmall[pair[0]][pair[1]] = 255\n",
    "        cv2.circle(imgSmall2,(pair[1],pair[0]),1,(255,255,255),-1)\n",
    "\n",
    "    return imgSmall,imgSmall2"
   ]
  },
  {
   "cell_type": "markdown",
   "metadata": {},
   "source": [
    "# Classe geradora do desenho"
   ]
  },
  {
   "cell_type": "code",
   "execution_count": 144,
   "metadata": {},
   "outputs": [],
   "source": [
    "class DrawingApp:\n",
    "    def __init__(self,root_path):\n",
    "        # Variáveis iniciais\n",
    "        self.root_path = root_path\n",
    "        self.isDrawing = False\n",
    "        self.count = int(4)\n",
    "    \n",
    "    def drawLine(self,event,x,y,flags,param):\n",
    "        #Desenha na imagem enquanto o mouse se move após o botão esquerdo do mouse é pressionado\n",
    "        #Desenha em 2 imagens ao mesmo tempo: Uma para ter uma referencia do desenho e uma para gerar as coordenadas do mouse\n",
    "        img1 = param[0]\n",
    "        img2 = param[1]\n",
    "        if event == cv2.EVENT_LBUTTONDOWN:\n",
    "            self.isDrawing = True\n",
    "        elif event == cv2.EVENT_MOUSEMOVE and self.isDrawing:\n",
    "            cv2.circle(img1,(x,y),5,(255,255,255),-1)\n",
    "            cv2.circle(img2,(x,y),0,(255,255,255),-1)\n",
    "        elif event == cv2.EVENT_LBUTTONUP:\n",
    "            self.isDrawing = False\n",
    "\n",
    "    def run(self):\n",
    "        # Imagem base vazia\n",
    "        img = np.full((640,640), 0, dtype=np.uint8)\n",
    "        img2 = np.full((640,640), 0, dtype=np.uint8)\n",
    "\n",
    "        images = [img,img2]\n",
    "\n",
    "        #gera o nome da janela\n",
    "        windowName = 'drawing app'\n",
    "        cv2.namedWindow(windowName)\n",
    "\n",
    "        #chama a função de desenho que chama a função drawLine com os eventos do mouse\n",
    "        cv2.setMouseCallback(windowName,self.drawLine,images)\n",
    "\n",
    "        while True:\n",
    "            cv2.imshow(windowName,images[0])\n",
    "            wait = cv2.waitKey(1)\n",
    "            if wait == ord('q'):\n",
    "                print(\"saiu\")\n",
    "                break\n",
    "            elif wait == ord('r'):\n",
    "                print(\"entrou no reset\")\n",
    "                images[0] = np.full((640,640), 0, dtype=np.uint8)\n",
    "                images[1] = np.full((640,640), 0, dtype=np.uint8)\n",
    "            elif wait == ord('s'):\n",
    "                print(\"entrou no save\")\n",
    "                imgSaveName = str(self.count)+'.jpg'\n",
    "                SavePath = os.path.join(self.root_path,'Base1\\\\'+imgSaveName)\n",
    "                if not cv2.imwrite(SavePath, images[0]):\n",
    "                    raise Exception(\"Could not write the image\")\n",
    "                \n",
    "                imgSaveNamedots = str(self.count)+'dots'+'.jpg'\n",
    "                SavePath = os.path.join(self.root_path,'Base1\\\\'+imgSaveNamedots)\n",
    "                if not cv2.imwrite(SavePath, images[1]):\n",
    "                    raise Exception(\"Could not write the image\")\n",
    "                \n",
    "                imagesSmall = ImgNormalizer(images[1])\n",
    "                imgSave28thin = str(self.count)+'SmallThin'+'.jpg'\n",
    "                SavePath = os.path.join(self.root_path,'Base1\\\\'+imgSave28thin)\n",
    "                if not cv2.imwrite(SavePath, imagesSmall[0]):\n",
    "                    raise Exception(\"Could not write the image\")\n",
    "                imgSave28bold = str(self.count)+'SmallBold'+'.jpg'\n",
    "                SavePath = os.path.join(self.root_path,'Base1\\\\'+imgSave28bold)\n",
    "                if not cv2.imwrite(SavePath, imagesSmall[1]):\n",
    "                    raise Exception(\"Could not write the image\")\n",
    "                \n",
    "                self.count = self.count + 1\n",
    "\n",
    "        cv2.destroyAllWindows()"
   ]
  },
  {
   "cell_type": "markdown",
   "metadata": {},
   "source": [
    "# Função Chamada para desenhar"
   ]
  },
  {
   "cell_type": "code",
   "execution_count": 145,
   "metadata": {},
   "outputs": [],
   "source": [
    "def Drawing():\n",
    "    root = os.getcwd()\n",
    "    app = DrawingApp(root)\n",
    "    app.run()"
   ]
  },
  {
   "cell_type": "markdown",
   "metadata": {},
   "source": [
    "# Execução"
   ]
  },
  {
   "cell_type": "code",
   "execution_count": 146,
   "metadata": {},
   "outputs": [
    {
     "name": "stdout",
     "output_type": "stream",
     "text": [
      "saiu\n"
     ]
    }
   ],
   "source": [
    "if __name__ == '__main__':\n",
    "    Drawing()"
   ]
  },
  {
   "cell_type": "code",
   "execution_count": 147,
   "metadata": {},
   "outputs": [
    {
     "data": {
      "text/plain": [
       "[2, 3]"
      ]
     },
     "execution_count": 147,
     "metadata": {},
     "output_type": "execute_result"
    }
   ],
   "source": [
    "a = []\n",
    "a.append(2)\n",
    "a.append(3)\n",
    "a"
   ]
  }
 ],
 "metadata": {
  "kernelspec": {
   "display_name": ".venv",
   "language": "python",
   "name": "python3"
  },
  "language_info": {
   "codemirror_mode": {
    "name": "ipython",
    "version": 3
   },
   "file_extension": ".py",
   "mimetype": "text/x-python",
   "name": "python",
   "nbconvert_exporter": "python",
   "pygments_lexer": "ipython3",
   "version": "3.12.8"
  }
 },
 "nbformat": 4,
 "nbformat_minor": 2
}
