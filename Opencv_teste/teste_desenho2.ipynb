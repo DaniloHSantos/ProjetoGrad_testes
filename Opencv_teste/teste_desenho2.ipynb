{
 "cells": [
  {
   "cell_type": "code",
   "execution_count": 1,
   "metadata": {},
   "outputs": [],
   "source": [
    "import cv2 as cv\n",
    "import os"
   ]
  },
  {
   "cell_type": "code",
   "execution_count": 2,
   "metadata": {},
   "outputs": [],
   "source": [
    "def drawCircle(event,x,y,flags,param):\n",
    "    img = param\n",
    "    if event == cv.EVENT_LBUTTONDBLCLK:\n",
    "        cv.circle(img,(x,y), 10, (0,0,255), -1)"
   ]
  },
  {
   "cell_type": "code",
   "execution_count": 3,
   "metadata": {},
   "outputs": [],
   "source": [
    "def doubleClickDrawing():\n",
    "    root = os.getcwd()\n",
    "    imgPath = os.path.join(root,'assets\\\\chessboard.png')\n",
    "    img = cv.imread(imgPath)"
   ]
  },
  {
   "cell_type": "code",
   "execution_count": 11,
   "metadata": {},
   "outputs": [],
   "source": [
    "class DrawingApp:\n",
    "    def __init__(self,imagePath):\n",
    "        self.imagePath = imagePath\n",
    "        self.startX, self.startY = 0,0\n",
    "        self.isDrawing = False\n",
    "    \n",
    "    def drawLine(self,event,x,y,flags,param):\n",
    "        img = param\n",
    "        if event == cv.EVENT_LBUTTONDOWN:\n",
    "            self.isDrawing = True\n",
    "            self.startX, self.startY = x,y\n",
    "        elif event == cv.EVENT_MOUSEMOVE and self.isDrawing:\n",
    "            cv.circle(img,(x,y),5,(180,180,180),-1)\n",
    "        elif event == cv.EVENT_LBUTTONUP:\n",
    "            self.isDrawing = False\n",
    "            cv.circle(img,(x,y),5,(180,180,180),-1)\n",
    "\n",
    "    def run(self):\n",
    "        img = cv.imread(self.imagePath)\n",
    "        windowName = 'drawing app'\n",
    "        cv.namedWindow(windowName)\n",
    "        cv.setMouseCallback(windowName,self.drawLine,img)\n",
    "        while True:\n",
    "            cv.imshow(windowName,img)\n",
    "            if cv.waitKey(1) == ord('q'):\n",
    "                break\n",
    "        cv.destroyAllWindows()"
   ]
  },
  {
   "cell_type": "code",
   "execution_count": 12,
   "metadata": {},
   "outputs": [],
   "source": [
    "def holdAndDragDrawing():\n",
    "    root = os.getcwd()\n",
    "    imgPath = os.path.join(root,'assets\\\\chessboard.png')\n",
    "    app = DrawingApp(imgPath)\n",
    "    app.run()"
   ]
  },
  {
   "cell_type": "code",
   "execution_count": 13,
   "metadata": {},
   "outputs": [],
   "source": [
    "if __name__ == '__main__':\n",
    "    holdAndDragDrawing()"
   ]
  }
 ],
 "metadata": {
  "kernelspec": {
   "display_name": ".venv",
   "language": "python",
   "name": "python3"
  },
  "language_info": {
   "codemirror_mode": {
    "name": "ipython",
    "version": 3
   },
   "file_extension": ".py",
   "mimetype": "text/x-python",
   "name": "python",
   "nbconvert_exporter": "python",
   "pygments_lexer": "ipython3",
   "version": "3.12.8"
  }
 },
 "nbformat": 4,
 "nbformat_minor": 2
}
