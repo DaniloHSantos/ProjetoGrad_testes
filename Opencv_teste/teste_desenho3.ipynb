{
 "cells": [
  {
   "cell_type": "code",
   "execution_count": 16,
   "metadata": {},
   "outputs": [],
   "source": [
    "import cv2\n",
    "import numpy as np\n",
    "import os"
   ]
  },
  {
   "cell_type": "code",
   "execution_count": 17,
   "metadata": {},
   "outputs": [
    {
     "data": {
      "text/plain": [
       "True"
      ]
     },
     "execution_count": 17,
     "metadata": {},
     "output_type": "execute_result"
    }
   ],
   "source": [
    "image = np.full((720,720), 255, dtype=np.uint8)\n",
    "cv2.imwrite('Imagens1\\\\new_img.jpg', image)"
   ]
  },
  {
   "cell_type": "code",
   "execution_count": 18,
   "metadata": {},
   "outputs": [],
   "source": [
    "class DrawingApp:\n",
    "    def __init__(self,imagePath,root_path):\n",
    "        self.imagePath = imagePath\n",
    "        self.startX, self.startY = 0,0\n",
    "        self.isDrawing = False\n",
    "        self.count = int(1)\n",
    "        self.root_path = root_path\n",
    "    \n",
    "    def drawLine(self,event,x,y,flags,param):\n",
    "        img = param\n",
    "        if event == cv2.EVENT_LBUTTONDOWN:\n",
    "            self.isDrawing = True\n",
    "            self.startX, self.startY = x,y\n",
    "        elif event == cv2.EVENT_MOUSEMOVE and self.isDrawing:\n",
    "            cv2.circle(img,(x,y),5,(0,0,0),-1)\n",
    "        elif event == cv2.EVENT_LBUTTONUP:\n",
    "            self.isDrawing = False\n",
    "            cv2.circle(img,(x,y),5,(0,0,0),-1)\n",
    "\n",
    "    def run(self):\n",
    "        img = cv2.imread(self.imagePath)\n",
    "        windowName = 'drawing app'\n",
    "        cv2.namedWindow(windowName)\n",
    "        cv2.setMouseCallback(windowName,self.drawLine,img)\n",
    "        while True:\n",
    "            cv2.imshow(windowName,img)\n",
    "            if cv2.waitKey(1) == ord('q'):\n",
    "                break\n",
    "        imgSaveName = str(self.count)+'.jpg'\n",
    "        SavePath = os.path.join(self.root_path,'Imagens1\\\\'+imgSaveName)\n",
    "        \n",
    "        print(imgSaveName)\n",
    "        print(SavePath)\n",
    "        \n",
    "        if not cv2.imwrite(SavePath, img):\n",
    "            raise Exception(\"Could not write the image\")\n",
    "        \n",
    "        imgSaveName2 = str(self.count)+'Small'+'.jpg'\n",
    "        img2 = cv2.resize(img,(28,28),interpolation = cv2.INTER_AREA)\n",
    "        SavePath2 = os.path.join(self.root_path,'Imagens1\\\\'+imgSaveName2)\n",
    "        self.count = self.count + 1\n",
    "        print(self.count)\n",
    "        if not cv2.imwrite(SavePath2, img2):\n",
    "            raise Exception(\"Could not write the image\")\n",
    "        \n",
    "        cv2.destroyAllWindows()"
   ]
  },
  {
   "cell_type": "code",
   "execution_count": 19,
   "metadata": {},
   "outputs": [],
   "source": [
    "def holdAndDragDrawing():\n",
    "    root = os.getcwd()\n",
    "    imgPath = os.path.join(root,'Imagens1\\\\new_img.jpg')\n",
    "    app = DrawingApp(imgPath,root)\n",
    "    app.run()"
   ]
  },
  {
   "cell_type": "code",
   "execution_count": 20,
   "metadata": {},
   "outputs": [
    {
     "name": "stdout",
     "output_type": "stream",
     "text": [
      "1.jpg\n",
      "d:\\Documentos\\TCC\\Opencv_teste\\Imagens1\\1.jpg\n",
      "2\n"
     ]
    }
   ],
   "source": [
    "if __name__ == '__main__':\n",
    "    holdAndDragDrawing()"
   ]
  }
 ],
 "metadata": {
  "kernelspec": {
   "display_name": ".venv",
   "language": "python",
   "name": "python3"
  },
  "language_info": {
   "codemirror_mode": {
    "name": "ipython",
    "version": 3
   },
   "file_extension": ".py",
   "mimetype": "text/x-python",
   "name": "python",
   "nbconvert_exporter": "python",
   "pygments_lexer": "ipython3",
   "version": "3.12.8"
  }
 },
 "nbformat": 4,
 "nbformat_minor": 2
}
