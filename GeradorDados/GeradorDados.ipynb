{
 "cells": [
  {
   "cell_type": "markdown",
   "metadata": {},
   "source": [
    "Imports"
   ]
  },
  {
   "cell_type": "code",
   "execution_count": 1,
   "metadata": {},
   "outputs": [],
   "source": [
    "import cv2\n",
    "import numpy as np\n",
    "import os"
   ]
  },
  {
   "cell_type": "markdown",
   "metadata": {},
   "source": [
    "Função para normalizar a imagem para 28x28"
   ]
  },
  {
   "cell_type": "code",
   "execution_count": 62,
   "metadata": {},
   "outputs": [],
   "source": [
    "def ImgNormalizer(img):\n",
    "    w = len(img[0])\n",
    "    h = len(img[1])\n",
    "    DrawX = []\n",
    "    DrawY = []\n",
    "    for x in range(w):\n",
    "        for y in range(h):\n",
    "            if img[x][y] == 255:\n",
    "                DrawX.append(x)\n",
    "                DrawY.append(y)\n",
    "\n",
    "    # Se não ouver desenho nenhum, retorna imagens completamente vazias\n",
    "    if not DrawX:\n",
    "        imgSmall = np.full((28,28), 0, dtype=np.uint8)\n",
    "        imgSmall2 = np.full((28,28), 0, dtype=np.uint8)\n",
    "        return imgSmall,imgSmall2\n",
    "        \n",
    "    # Pega os valores mínimos e máximos das coordenadas\n",
    "    MaxXValue = np.max(DrawX)\n",
    "    MinXValue = np.min(DrawX)\n",
    "    MaxYValue = np.max(DrawY)\n",
    "    MinYValue = np.min(DrawY)\n",
    "    \n",
    "    # Calcula as amplitudes\n",
    "    XAmplitude = MaxXValue - MinXValue\n",
    "    YAmplitude = MaxYValue - MinYValue\n",
    "    \n",
    "    if XAmplitude > YAmplitude:\n",
    "        # Altera as coordenadas para ir de 0 ate a aplitude maxima e centraliza a amplitude menor\n",
    "        Amp = XAmplitude\n",
    "        for i in range(len(DrawX)):\n",
    "            DrawX[i] = DrawX[i] - MinXValue\n",
    "            DrawY[i] = DrawY[i] - MinYValue + (Amp/2) - (YAmplitude/2)\n",
    "    else:\n",
    "        # Altera as coordenadas para ir de 0 ate a aplitude maxima e centraliza a amplitude menor\n",
    "        Amp = YAmplitude\n",
    "        for i in range(len(DrawX)):\n",
    "            DrawX[i] = DrawX[i] - MinXValue + (Amp/2) - (XAmplitude/2)\n",
    "            DrawY[i] = DrawY[i] - MinYValue\n",
    "    \n",
    "    DrawSmall = []\n",
    "    for i in range(len(DrawX)):\n",
    "        # Reduz a amplitude para 28x28 com 2 pixels de borda e arredonda os resultados\n",
    "        newpair = []\n",
    "        newpair.append(((23/Amp)*DrawX[i]) + 2)\n",
    "        newpair.append(((23/Amp)*DrawY[i]) + 2) \n",
    "        newpairR = np.int32(np.rint(newpair))\n",
    "        DrawSmall.append(newpairR)\n",
    "    # Deixa apenas os pares únicos, excluindo os repetidos após o arredondamento\n",
    "    DrawSmall = np.unique(DrawSmall,axis=0)\n",
    "\n",
    "    #Desenha a imagem 28x28\n",
    "    imgSmall = np.full((28,28), 0, dtype=np.uint8)\n",
    "    imgSmall2 = np.full((28,28), 0, dtype=np.uint8)\n",
    "    for pair in DrawSmall:\n",
    "        imgSmall[pair[0]][pair[1]] = 255\n",
    "        cv2.circle(imgSmall2,(pair[1],pair[0]),1,(255,255,255),-1)\n",
    "\n",
    "    return imgSmall,imgSmall2"
   ]
  },
  {
   "cell_type": "markdown",
   "metadata": {},
   "source": [
    "Classe geradora do desenho"
   ]
  },
  {
   "cell_type": "code",
   "execution_count": 63,
   "metadata": {},
   "outputs": [],
   "source": [
    "class DrawingApp:\n",
    "    def __init__(self,path,count,DrawingClass):\n",
    "        # Variáveis iniciais\n",
    "        self.path = path\n",
    "        self.isDrawing = False\n",
    "        self.count = count\n",
    "        self.DrawingClass = DrawingClass\n",
    "    \n",
    "    def drawLine(self,event,x,y,flags,param):\n",
    "        #Desenha na imagem enquanto o mouse se move após o botão esquerdo do mouse é pressionado\n",
    "        #Desenha em 2 imagens ao mesmo tempo: Uma para ter uma referencia do desenho e uma para gerar as coordenadas do mouse\n",
    "        img1 = param[0]\n",
    "        img2 = param[1]\n",
    "        if event == cv2.EVENT_LBUTTONDOWN:\n",
    "            self.isDrawing = True\n",
    "        elif event == cv2.EVENT_MOUSEMOVE and self.isDrawing:\n",
    "            cv2.circle(img1,(x,y),5,(255,255,255),-1)\n",
    "            cv2.circle(img2,(x,y),0,(255,255,255),-1)\n",
    "        elif event == cv2.EVENT_LBUTTONUP:\n",
    "            self.isDrawing = False\n",
    "\n",
    "    def run(self):\n",
    "        # Checa se a variável de contagem é maior que zero, se não, nem roda o programa\n",
    "        if self.count < 1:\n",
    "            raise Exception(\"Count needs to be bigger than 0\")\n",
    "\n",
    "        # Cria imagens base vazias\n",
    "        img = np.full((640,640), 0, dtype=np.uint8)\n",
    "        img2 = np.full((640,640), 0, dtype=np.uint8)\n",
    "\n",
    "        countImg = np.full((150,400), 0, dtype=np.uint8)\n",
    "        font = cv2.FONT_HERSHEY_SIMPLEX\n",
    "        cv2.putText(countImg, str(self.count), (75, 75), font, 2, (255,255,255), 5, cv2.LINE_AA)\n",
    "\n",
    "\n",
    "        # Cria um vetor com as duas imagens\n",
    "        images = [img,img2]\n",
    "\n",
    "        #gera o nome da janela\n",
    "        windowName = 'drawing app'\n",
    "        cv2.namedWindow(windowName)\n",
    "        windowName2 = 'count'\n",
    "        cv2.namedWindow(windowName2)\n",
    "\n",
    "        #chama a função de desenho que chama a função drawLine com os eventos do mouse\n",
    "        cv2.setMouseCallback(windowName,self.drawLine,images)\n",
    "\n",
    "        while True:\n",
    "            cv2.imshow(windowName,images[0])\n",
    "            cv2.imshow(windowName2,countImg)\n",
    "            wait = cv2.waitKey(1)\n",
    "            if wait == ord('q'):\n",
    "                # Sai do Loop da etapa de desenho\n",
    "                break\n",
    "            elif wait == ord('r'):\n",
    "                # Limpa o conteudo da tela para que novas imagens possam ser geradas\n",
    "                images[0] = np.full((640,640), 0, dtype=np.uint8)\n",
    "                images[1] = np.full((640,640), 0, dtype=np.uint8)\n",
    "            elif wait == ord('s'):\n",
    "                # Gera os nomes da imagens que vão ser geradas\n",
    "                ImageClass = self.DrawingClass\n",
    "                imgSaveNameThin = ImageClass+\"-\"+\"Thin\"+\"-\"+str(self.count)+'.jpg'\n",
    "                imgSaveNameBold = ImageClass+\"-\"+\"Bold\"+\"-\"+str(self.count)+'.jpg'\n",
    "                \n",
    "                # Gera os caminhos para salvar as imagens\n",
    "                DataBankPathThin = os.path.join(self.path,\"DataBase\\\\Thin\\\\\"+ImageClass+\"\\\\\"+imgSaveNameThin)\n",
    "                DataBankPathBold = os.path.join(self.path,\"DataBase\\\\Bold\\\\\"+ImageClass+\"\\\\\"+imgSaveNameBold)\n",
    "\n",
    "                # Gera as imagens na resolução 28x28\n",
    "                imagesSmall = ImgNormalizer(images[1])\n",
    "\n",
    "                # Salva as imagens no caminho selecionado\n",
    "                if not cv2.imwrite(DataBankPathThin, imagesSmall[0]):\n",
    "                    raise Exception(\"Could not write the image\")\n",
    "                if not cv2.imwrite(DataBankPathBold, imagesSmall[1]):\n",
    "                    raise Exception(\"Could not write the image\")\n",
    "\n",
    "                self.count = self.count + 1\n",
    "\n",
    "                countImg = np.full((150,400), 0, dtype=np.uint8)\n",
    "                cv2.putText(countImg, str(self.count), (75, 75), font, 2, (255,255,255), 5, cv2.LINE_AA)\n",
    "        \n",
    "        # Fecha a janela e termina processo\n",
    "        cv2.destroyAllWindows()"
   ]
  },
  {
   "cell_type": "markdown",
   "metadata": {},
   "source": [
    "### Labels utlizadas:\n",
    " - `SetaCima`\n",
    " - `SetaBaixo`\n",
    " - `SetaDireita`\n",
    " - `SetaEsquerda`"
   ]
  },
  {
   "cell_type": "markdown",
   "metadata": {},
   "source": [
    "Função Chamada para desenhar"
   ]
  },
  {
   "cell_type": "code",
   "execution_count": 64,
   "metadata": {},
   "outputs": [],
   "source": [
    "def Drawing():\n",
    "    # Caminho da pasta atual\n",
    "    path = os.getcwd()\n",
    "    # Contagem de imagens o programa começa a gerar, DEVE SER MAIOR QUE ZERO\n",
    "    Contagem = 1\n",
    "    # Lable na qual a imagem desenhada vai ser salva, Deve ter uma pasta com esse nome no diretório \"DataBase\"\n",
    "    LableImage = \"Circulo\"\n",
    "    app = DrawingApp(path,Contagem,LableImage)\n",
    "    app.run()"
   ]
  },
  {
   "cell_type": "markdown",
   "metadata": {},
   "source": [
    "Execução"
   ]
  },
  {
   "cell_type": "code",
   "execution_count": 65,
   "metadata": {},
   "outputs": [],
   "source": [
    "if __name__ == '__main__':\n",
    "    Drawing()"
   ]
  }
 ],
 "metadata": {
  "kernelspec": {
   "display_name": ".venv",
   "language": "python",
   "name": "python3"
  },
  "language_info": {
   "codemirror_mode": {
    "name": "ipython",
    "version": 3
   },
   "file_extension": ".py",
   "mimetype": "text/x-python",
   "name": "python",
   "nbconvert_exporter": "python",
   "pygments_lexer": "ipython3",
   "version": "3.12.8"
  }
 },
 "nbformat": 4,
 "nbformat_minor": 2
}
