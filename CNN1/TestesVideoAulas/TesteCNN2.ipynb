{
 "cells": [
  {
   "cell_type": "code",
   "execution_count": 83,
   "metadata": {},
   "outputs": [],
   "source": [
    "# 1) Design model(input,output size, forward pass)\n",
    "# 2) Construct loss and optimizer\n",
    "# 3) Training loop\n",
    "#   - forward pass: compute prediction\n",
    "#   - backward pass: gradients\n",
    "#   - update weights"
   ]
  },
  {
   "cell_type": "code",
   "execution_count": 84,
   "metadata": {},
   "outputs": [],
   "source": [
    "import torch\n",
    "import torch.nn as nn\n",
    "import numpy as np"
   ]
  },
  {
   "cell_type": "code",
   "execution_count": 85,
   "metadata": {},
   "outputs": [
    {
     "name": "stdout",
     "output_type": "stream",
     "text": [
      "4 1\n"
     ]
    }
   ],
   "source": [
    "# f = w * x\n",
    "# f = 2 * x\n",
    "X = torch.tensor([[1],[2],[3],[4]], dtype=torch.float32)\n",
    "Y = torch.tensor([[2],[4],[6],[8]], dtype=torch.float32)\n",
    "n_samples, n_features = X.shape\n",
    "print(n_samples, n_features)\n",
    "\n",
    "X_test = torch.tensor([5], dtype=torch.float32)\n",
    "input_size = n_features\n",
    "output_size = n_features"
   ]
  },
  {
   "cell_type": "code",
   "execution_count": 86,
   "metadata": {},
   "outputs": [],
   "source": [
    "# model prediction\n",
    "model = nn.Linear(input_size,output_size)"
   ]
  },
  {
   "cell_type": "code",
   "execution_count": 87,
   "metadata": {},
   "outputs": [],
   "source": [
    "class LinearRegression(nn.Module):\n",
    "    def __init__(self,input_dim,output_dim):\n",
    "        super(LinearRegression, self).__init__()\n",
    "        # define layers\n",
    "        self.lin = nn.Linear(input_dim,output_dim)\n",
    "\n",
    "    def forward(self, x):\n",
    "        return self.lin(x)"
   ]
  },
  {
   "cell_type": "code",
   "execution_count": 88,
   "metadata": {},
   "outputs": [],
   "source": [
    "model = LinearRegression(input_size, output_size)"
   ]
  },
  {
   "cell_type": "code",
   "execution_count": 89,
   "metadata": {},
   "outputs": [
    {
     "name": "stdout",
     "output_type": "stream",
     "text": [
      "Prediction before training: f(5) = -0.599\n"
     ]
    }
   ],
   "source": [
    "print(f'Prediction before training: f(5) = {model(X_test).item():.3f}')"
   ]
  },
  {
   "cell_type": "code",
   "execution_count": 100,
   "metadata": {},
   "outputs": [
    {
     "name": "stdout",
     "output_type": "stream",
     "text": [
      "epoch 1: w = 2.000, loss = 0.00000002\n",
      "epoch 11: w = 2.000, loss = 0.00000002\n",
      "epoch 21: w = 2.000, loss = 0.00000002\n",
      "epoch 31: w = 2.000, loss = 0.00000002\n",
      "epoch 41: w = 2.000, loss = 0.00000002\n",
      "epoch 51: w = 2.000, loss = 0.00000002\n",
      "epoch 61: w = 2.000, loss = 0.00000002\n",
      "epoch 71: w = 2.000, loss = 0.00000001\n",
      "epoch 81: w = 2.000, loss = 0.00000001\n",
      "epoch 91: w = 2.000, loss = 0.00000001\n",
      "epoch 101: w = 2.000, loss = 0.00000001\n",
      "epoch 111: w = 2.000, loss = 0.00000001\n",
      "epoch 121: w = 2.000, loss = 0.00000001\n",
      "epoch 131: w = 2.000, loss = 0.00000001\n",
      "epoch 141: w = 2.000, loss = 0.00000001\n",
      "epoch 151: w = 2.000, loss = 0.00000001\n",
      "epoch 161: w = 2.000, loss = 0.00000001\n",
      "epoch 171: w = 2.000, loss = 0.00000001\n",
      "epoch 181: w = 2.000, loss = 0.00000001\n",
      "epoch 191: w = 2.000, loss = 0.00000001\n",
      "epoch 201: w = 2.000, loss = 0.00000001\n",
      "epoch 211: w = 2.000, loss = 0.00000001\n",
      "epoch 221: w = 2.000, loss = 0.00000001\n",
      "epoch 231: w = 2.000, loss = 0.00000001\n",
      "epoch 241: w = 2.000, loss = 0.00000001\n",
      "epoch 251: w = 2.000, loss = 0.00000001\n",
      "epoch 261: w = 2.000, loss = 0.00000000\n",
      "epoch 271: w = 2.000, loss = 0.00000000\n",
      "epoch 281: w = 2.000, loss = 0.00000000\n",
      "epoch 291: w = 2.000, loss = 0.00000000\n"
     ]
    }
   ],
   "source": [
    "# Training\n",
    "learning_rate = 0.01\n",
    "n_itens = 300\n",
    "\n",
    "loss = nn.MSELoss()\n",
    "optimizer = torch.optim.SGD(model.parameters(), lr=learning_rate)\n",
    "\n",
    "for epoch in range(n_itens):\n",
    "    # prediction = forward pass\n",
    "    y_pred = model(X)\n",
    "\n",
    "    # loss\n",
    "    l = loss(Y,y_pred)\n",
    "\n",
    "    # gradients = backward pass\n",
    "    l.backward()\n",
    "\n",
    "    # update weights\n",
    "    optimizer.step()\n",
    "\n",
    "    # zero gradients\n",
    "    optimizer.zero_grad()\n",
    "\n",
    "    if epoch % 10 == 0:\n",
    "        [w, b] = model.parameters()\n",
    "        print(f'epoch {epoch+1}: w = {w[0][0].item():.3f}, loss = {l:.8f}')\n",
    "    "
   ]
  },
  {
   "cell_type": "code",
   "execution_count": 101,
   "metadata": {},
   "outputs": [
    {
     "name": "stdout",
     "output_type": "stream",
     "text": [
      "Prediction after training: f(5) = 10.000\n"
     ]
    }
   ],
   "source": [
    "print(f'Prediction after training: f(5) = {model(X_test).item():.3f}')"
   ]
  }
 ],
 "metadata": {
  "kernelspec": {
   "display_name": ".venv",
   "language": "python",
   "name": "python3"
  },
  "language_info": {
   "codemirror_mode": {
    "name": "ipython",
    "version": 3
   },
   "file_extension": ".py",
   "mimetype": "text/x-python",
   "name": "python",
   "nbconvert_exporter": "python",
   "pygments_lexer": "ipython3",
   "version": "3.12.8"
  }
 },
 "nbformat": 4,
 "nbformat_minor": 2
}
